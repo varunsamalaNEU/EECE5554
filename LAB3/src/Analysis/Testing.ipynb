{
  "cells": [
    {
      "cell_type": "code",
      "execution_count": null,
      "metadata": {
        "id": "ingBO1SaZYxt"
      },
      "outputs": [],
      "source": [
        "pip install bagpy"
      ]
    },
    {
      "cell_type": "code",
      "execution_count": null,
      "metadata": {
        "id": "Pjlc67XPY_cB"
      },
      "outputs": [],
      "source": [
        "import bagpy\n",
        "from bagpy import bagreader\n",
        "import pandas as pd\n",
        "import matplotlib.pyplot as plt\n",
        "import numpy as np\n",
        "from statistics import stdev"
      ]
    },
    {
      "cell_type": "code",
      "execution_count": null,
      "metadata": {
        "id": "1HMTUEJbZO1a"
      },
      "outputs": [],
      "source": [
        "reader1 = bagreader('stationary_5mins.bag')\n",
        "data1 = reader1.message_by_topic('/imu')\n",
        "\n",
        "df1 = pd.read_csv(data1)"
      ]
    },
    {
      "cell_type": "code",
      "execution_count": null,
      "metadata": {
        "id": "yqCpsmNorojZ"
      },
      "outputs": [],
      "source": [
        "df1.head(5)"
      ]
    },
    {
      "cell_type": "code",
      "execution_count": null,
      "metadata": {
        "id": "bGnlzDGYC7vY"
      },
      "outputs": [],
      "source": [
        "df1.to_csv('stationary_5mins.csv')"
      ]
    }
  ],
  "metadata": {
    "colab": {
      "provenance": []
    },
    "kernelspec": {
      "display_name": "Python 3",
      "name": "python3"
    },
    "language_info": {
      "name": "python"
    }
  },
  "nbformat": 4,
  "nbformat_minor": 0
}